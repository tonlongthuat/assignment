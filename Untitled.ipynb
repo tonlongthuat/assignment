{
 "cells": [
  {
   "cell_type": "markdown",
   "id": "0271d957-525f-4ef1-bdec-56b357ba16ab",
   "metadata": {
    "tags": []
   },
   "source": [
    "# My Jupyter Notebook on IBM Watson Studio"
   ]
  },
  {
   "cell_type": "markdown",
   "id": "4f8510dd-f98c-4e5e-b6f9-130b6ba58564",
   "metadata": {},
   "source": [
    "**Thuat Ton**\n"
   ]
  },
  {
   "cell_type": "markdown",
   "id": "d7f7827b-0d70-400b-80c6-e518dd090f80",
   "metadata": {},
   "source": [
    "Student"
   ]
  },
  {
   "cell_type": "markdown",
   "id": "53189665-3bbb-47a9-af0a-0ff297c3cd28",
   "metadata": {},
   "source": [
    " _I am interested in data science because I want to use data to solve the problems_ "
   ]
  },
  {
   "cell_type": "markdown",
   "id": "4ef923f3-f25f-4bfd-8ad7-8921a8b2b428",
   "metadata": {
    "tags": []
   },
   "source": [
    "### My Interested technologies:\n",
    "1. AI- ML/D\n",
    "2. Software Engineer\n",
    "3. IoT"
   ]
  },
  {
   "cell_type": "markdown",
   "id": "7f484a6b-c5a5-49f0-83d8-09818abd5a8f",
   "metadata": {},
   "source": [
    "https://github.com/tonlongthuat"
   ]
  },
  {
   "cell_type": "code",
   "execution_count": null,
   "id": "f19822f2-c2f9-4abf-a9ae-e3e447cb869a",
   "metadata": {},
   "outputs": [],
   "source": []
  }
 ],
 "metadata": {
  "kernelspec": {
   "display_name": "Python",
   "language": "python",
   "name": "conda-env-python-py"
  },
  "language_info": {
   "codemirror_mode": {
    "name": "ipython",
    "version": 3
   },
   "file_extension": ".py",
   "mimetype": "text/x-python",
   "name": "python",
   "nbconvert_exporter": "python",
   "pygments_lexer": "ipython3",
   "version": "3.7.12"
  }
 },
 "nbformat": 4,
 "nbformat_minor": 5
}
